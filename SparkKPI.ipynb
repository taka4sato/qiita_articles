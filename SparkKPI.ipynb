{
 "cells": [
  {
   "cell_type": "code",
   "execution_count": 1,
   "metadata": {
    "collapsed": false
   },
   "outputs": [
    {
     "name": "stdout",
     "output_type": "stream",
     "text": [
      "csv file not found at master node, will download and copy to HDFS\n"
     ]
    }
   ],
   "source": [
    "import json, os, datetime, commands\n",
    "\n",
    "if not os.path.exists(\"./click_data_sample.csv\"):\n",
    "    print \"csv file not found at driver node, will download and copy to HDFS\"\n",
    "    commands.getoutput(\"wget -q http://image.gihyo.co.jp/assets/files/book/2015/978-4-7741-7631-4/download/click_data_sample.csv\")\n",
    "    commands.getoutput(\"hadoop fs -copyFromLocal -f ./click_data_sample.csv /user/hadoop/\")\n",
    "\n",
    "whole_log = sc.textFile(\"/user/hadoop/click_data_sample.csv\")"
   ]
  },
  {
   "cell_type": "code",
   "execution_count": 2,
   "metadata": {
    "collapsed": false
   },
   "outputs": [
    {
     "data": {
      "text/plain": [
       "u'\"click.at\",\"user.id\",\"campaign.id\"'"
      ]
     },
     "execution_count": 2,
     "metadata": {},
     "output_type": "execute_result"
    }
   ],
   "source": [
    "whole_log.first()"
   ]
  },
  {
   "cell_type": "code",
   "execution_count": 3,
   "metadata": {
    "collapsed": false
   },
   "outputs": [
    {
     "data": {
      "text/plain": [
       "[u'\"click.at\",\"user.id\",\"campaign.id\"',\n",
       " u'\"2015-04-27 20:40:40\",144012,\"Campaign077\"',\n",
       " u'\"2015-04-27 00:27:55\",24485,\"Campaign063\"',\n",
       " u'\"2015-04-27 00:28:13\",24485,\"Campaign063\"',\n",
       " u'\"2015-04-27 00:33:42\",24485,\"Campaign038\"']"
      ]
     },
     "execution_count": 3,
     "metadata": {},
     "output_type": "execute_result"
    }
   ],
   "source": [
    "whole_log.take(5)"
   ]
  },
  {
   "cell_type": "code",
   "execution_count": 4,
   "metadata": {
    "collapsed": false
   },
   "outputs": [
    {
     "data": {
      "text/plain": [
       "[u'\"2015-04-27 20:40:40\",144012,\"Campaign077\"',\n",
       " u'\"2015-04-27 00:27:55\",24485,\"Campaign063\"',\n",
       " u'\"2015-04-27 00:28:13\",24485,\"Campaign063\"',\n",
       " u'\"2015-04-27 00:33:42\",24485,\"Campaign038\"',\n",
       " u'\"2015-04-27 01:00:04\",24485,\"Campaign063\"']"
      ]
     },
     "execution_count": 4,
     "metadata": {},
     "output_type": "execute_result"
    }
   ],
   "source": [
    "header = whole_log.first() #extract header\n",
    "whole_log_header_removed = whole_log.filter(lambda x:x !=header)    #filter out header\n",
    "whole_log_header_removed.take(5)"
   ]
  },
  {
   "cell_type": "code",
   "execution_count": 5,
   "metadata": {
    "collapsed": false
   },
   "outputs": [
    {
     "data": {
      "text/plain": [
       "327430"
      ]
     },
     "execution_count": 5,
     "metadata": {},
     "output_type": "execute_result"
    }
   ],
   "source": [
    "whole_log_header_removed.repartition(4).cache()\n",
    "whole_log_header_removed.count()"
   ]
  },
  {
   "cell_type": "code",
   "execution_count": 6,
   "metadata": {
    "collapsed": false
   },
   "outputs": [
    {
     "data": {
      "text/plain": [
       "[[u'\"2015-04-27 20:40:40\"', u'144012', u'\"Campaign077\"'],\n",
       " [u'\"2015-04-27 00:27:55\"', u'24485', u'\"Campaign063\"']]"
      ]
     },
     "execution_count": 6,
     "metadata": {},
     "output_type": "execute_result"
    }
   ],
   "source": [
    "whole_log_split = whole_log_header_removed.map(lambda line: line.split(\",\"))\n",
    "whole_log_split.take(2)"
   ]
  },
  {
   "cell_type": "code",
   "execution_count": 7,
   "metadata": {
    "collapsed": false
   },
   "outputs": [
    {
     "data": {
      "text/plain": [
       "[[datetime.datetime(2015, 4, 27, 20, 40, 40), u'144012', u'Campaign077'],\n",
       " [datetime.datetime(2015, 4, 27, 0, 27, 55), u'24485', u'Campaign063']]"
      ]
     },
     "execution_count": 7,
     "metadata": {},
     "output_type": "execute_result"
    }
   ],
   "source": [
    "whole_log_converted = whole_log_split.map(lambda line: [datetime.datetime.strptime(line[0].replace('\"', ''), '%Y-%m-%d %H:%M:%S'), line[1], line[2].replace('\"', '')])\n",
    "whole_log_converted.take(2)"
   ]
  },
  {
   "cell_type": "code",
   "execution_count": 8,
   "metadata": {
    "collapsed": false
   },
   "outputs": [
    {
     "data": {
      "text/plain": [
       "[[datetime.datetime(2015, 4, 27, 20, 40, 40), u'144012', u'Campaign077'],\n",
       " [datetime.datetime(2015, 4, 27, 0, 27, 55), u'24485', u'Campaign063']]"
      ]
     },
     "execution_count": 8,
     "metadata": {},
     "output_type": "execute_result"
    }
   ],
   "source": [
    "whole_log_converted.repartition(4).cache()\n",
    "whole_log_converted.take(2)"
   ]
  },
  {
   "cell_type": "code",
   "execution_count": 9,
   "metadata": {
    "collapsed": false
   },
   "outputs": [
    {
     "data": {
      "text/plain": [
       "41434"
      ]
     },
     "execution_count": 9,
     "metadata": {},
     "output_type": "execute_result"
    }
   ],
   "source": [
    "whole_log_converted.filter(lambda record: record[0].replace(hour=0, minute=0, second=0) == datetime.datetime(2015, 4, 27)).count()"
   ]
  },
  {
   "cell_type": "code",
   "execution_count": 10,
   "metadata": {
    "collapsed": false
   },
   "outputs": [
    {
     "name": "stdout",
     "output_type": "stream",
     "text": [
      "2015/04/27 41434\n",
      "2015/04/28 41843\n",
      "2015/04/29 50000\n",
      "2015/04/30 42441\n",
      "2015/05/01 45092\n",
      "2015/05/02 52165\n",
      "2015/05/03 54455\n"
     ]
    }
   ],
   "source": [
    "for count in range(0, 7):\n",
    "    target_day = datetime.datetime(2015, 4, 27) + datetime.timedelta(days=count)\n",
    "    print target_day.strftime('%Y/%m/%d'), \n",
    "    print whole_log_converted.filter(lambda record: record[0].replace(hour=0, minute=0, second=0) == target_day).count()"
   ]
  },
  {
   "cell_type": "code",
   "execution_count": 11,
   "metadata": {
    "collapsed": false
   },
   "outputs": [
    {
     "data": {
      "text/plain": [
       "20480"
      ]
     },
     "execution_count": 11,
     "metadata": {},
     "output_type": "execute_result"
    }
   ],
   "source": [
    "whole_log_converted.filter(lambda record: record[0].replace(hour=0, minute=0, second=0) == datetime.datetime(2015, 4, 27)).map(lambda record:record[1]).distinct().count()"
   ]
  },
  {
   "cell_type": "code",
   "execution_count": 12,
   "metadata": {
    "collapsed": false
   },
   "outputs": [
    {
     "name": "stdout",
     "output_type": "stream",
     "text": [
      "2015/04/27 20480\n",
      "2015/04/28 20873\n",
      "2015/04/29 23655\n",
      "2015/04/30 20543\n",
      "2015/05/01 21338\n",
      "2015/05/02 23999\n",
      "2015/05/03 23916\n"
     ]
    }
   ],
   "source": [
    "for count in range(0, 7):\n",
    "    target_day = datetime.datetime(2015, 4, 27) + datetime.timedelta(days=count)\n",
    "    print target_day.strftime('%Y/%m/%d'), \n",
    "    print whole_log_converted.filter(lambda record: record[0].replace(hour=0, minute=0, second=0) == target_day).map(lambda record:record[1]).distinct().count()"
   ]
  },
  {
   "cell_type": "code",
   "execution_count": 13,
   "metadata": {
    "collapsed": false
   },
   "outputs": [
    {
     "data": {
      "text/plain": [
       "MapPartitionsRDD[94] at repartition at NativeMethodAccessorImpl.java:-2"
      ]
     },
     "execution_count": 13,
     "metadata": {},
     "output_type": "execute_result"
    }
   ],
   "source": [
    "UU_4_27 = whole_log_converted.filter(lambda record: record[0].replace(hour=0, minute=0, second=0) == datetime.datetime(2015, 4, 27)).map(lambda record:record[1]).distinct()\n",
    "UU_4_27.repartition(4).cache()\n",
    "\n",
    "UU_4_28 = whole_log_converted.filter(lambda record: record[0].replace(hour=0, minute=0, second=0) == datetime.datetime(2015, 4, 28)).map(lambda record:record[1]).distinct()\n",
    "UU_4_28.repartition(4).cache()\n",
    "\n",
    "UU_4_29 = whole_log_converted.filter(lambda record: record[0].replace(hour=0, minute=0, second=0) == datetime.datetime(2015, 4, 29)).map(lambda record:record[1]).distinct()\n",
    "UU_4_29.repartition(4).cache()"
   ]
  },
  {
   "cell_type": "code",
   "execution_count": 14,
   "metadata": {
    "collapsed": false
   },
   "outputs": [
    {
     "data": {
      "text/plain": [
       "4045"
      ]
     },
     "execution_count": 14,
     "metadata": {},
     "output_type": "execute_result"
    }
   ],
   "source": [
    "three_day_UU = UU_4_29.intersection(UU_4_28).intersection(UU_4_27)\n",
    "three_day_UU.count()"
   ]
  },
  {
   "cell_type": "code",
   "execution_count": 15,
   "metadata": {
    "collapsed": false
   },
   "outputs": [
    {
     "data": {
      "text/plain": [
       "75545"
      ]
     },
     "execution_count": 15,
     "metadata": {},
     "output_type": "execute_result"
    }
   ],
   "source": [
    "whole_log_converted.map(lambda record:record[1]).distinct().count()"
   ]
  },
  {
   "cell_type": "code",
   "execution_count": 16,
   "metadata": {
    "collapsed": false
   },
   "outputs": [
    {
     "data": {
      "text/plain": [
       "[[u'144012', datetime.datetime(2015, 4, 27, 20, 40, 40)],\n",
       " [u'24485', datetime.datetime(2015, 4, 27, 0, 27, 55)],\n",
       " [u'24485', datetime.datetime(2015, 4, 27, 0, 28, 13)]]"
      ]
     },
     "execution_count": 16,
     "metadata": {},
     "output_type": "execute_result"
    }
   ],
   "source": [
    "whole_log_converted.map(lambda record:[record[1], record[0]]).take(3)"
   ]
  },
  {
   "cell_type": "code",
   "execution_count": 17,
   "metadata": {
    "collapsed": false
   },
   "outputs": [
    {
     "data": {
      "text/plain": [
       "[(u'35540', <pyspark.resultiterable.ResultIterable at 0x7f6628520590>),\n",
       " (u'35546', <pyspark.resultiterable.ResultIterable at 0x7f66285846d0>),\n",
       " (u'73461', <pyspark.resultiterable.ResultIterable at 0x7f6628584590>),\n",
       " (u'65095', <pyspark.resultiterable.ResultIterable at 0x7f6628584f90>),\n",
       " (u'114789', <pyspark.resultiterable.ResultIterable at 0x7f66285848d0>)]"
      ]
     },
     "execution_count": 17,
     "metadata": {},
     "output_type": "execute_result"
    }
   ],
   "source": [
    "whole_log_converted.map(lambda record:[record[1], record[0]]).groupByKey().take(5)"
   ]
  },
  {
   "cell_type": "code",
   "execution_count": 18,
   "metadata": {
    "collapsed": false
   },
   "outputs": [],
   "source": [
    "first_access_date = whole_log_converted.map(lambda record:[record[1], record[0]]).groupByKey().map(lambda record:[record[0], min(record[1])])"
   ]
  },
  {
   "cell_type": "code",
   "execution_count": 19,
   "metadata": {
    "collapsed": false
   },
   "outputs": [
    {
     "data": {
      "text/plain": [
       "MapPartitionsRDD[130] at repartition at NativeMethodAccessorImpl.java:-2"
      ]
     },
     "execution_count": 19,
     "metadata": {},
     "output_type": "execute_result"
    }
   ],
   "source": [
    "first_access_date.take(3)\n",
    "first_access_date.repartition(4).cache()"
   ]
  },
  {
   "cell_type": "code",
   "execution_count": 20,
   "metadata": {
    "collapsed": false
   },
   "outputs": [
    {
     "data": {
      "text/plain": [
       "20480"
      ]
     },
     "execution_count": 20,
     "metadata": {},
     "output_type": "execute_result"
    }
   ],
   "source": [
    "first_access_date.filter(lambda record: record[1].replace(hour=0, minute=0, second=0) == datetime.datetime(2015, 4, 27)).count()"
   ]
  },
  {
   "cell_type": "code",
   "execution_count": 21,
   "metadata": {
    "collapsed": false
   },
   "outputs": [
    {
     "name": "stdout",
     "output_type": "stream",
     "text": [
      "2015/04/27 20480\n",
      "2015/04/28 13288\n",
      "2015/04/29 12129\n",
      "2015/04/30 8129\n",
      "2015/05/01 7396\n",
      "2015/05/02 7530\n",
      "2015/05/03 6593\n"
     ]
    }
   ],
   "source": [
    "day_access_list = []\n",
    "target_day_list = []\n",
    "for count in range(0, 7):\n",
    "    target_day = datetime.datetime(2015, 4, 27) + datetime.timedelta(days=count)\n",
    "    access_count = first_access_date.filter(lambda record: record[1].replace(hour=0, minute=0, second=0) == target_day).count()\n",
    "    print target_day.strftime('%Y/%m/%d'),\n",
    "    print access_count\n",
    "    target_day_list.append(target_day.strftime('%Y/%m/%d'))\n",
    "    day_access_list.append(access_count)"
   ]
  },
  {
   "cell_type": "code",
   "execution_count": 22,
   "metadata": {
    "collapsed": false
   },
   "outputs": [
    {
     "name": "stderr",
     "output_type": "stream",
     "text": [
      "/usr/local/lib64/python2.7/site-packages/matplotlib/__init__.py:872: UserWarning: axes.color_cycle is deprecated and replaced with axes.prop_cycle; please use the latter.\n",
      "  warnings.warn(self.msg_depr % (key, alt_key))\n",
      "/usr/local/lib64/python2.7/site-packages/matplotlib/__init__.py:892: UserWarning: axes.color_cycle is deprecated and replaced with axes.prop_cycle; please use the latter.\n",
      "  warnings.warn(self.msg_depr % (key, alt_key))\n"
     ]
    },
    {
     "data": {
      "text/plain": [
       "<matplotlib.axes._subplots.AxesSubplot at 0x7f66193d8cd0>"
      ]
     },
     "execution_count": 22,
     "metadata": {},
     "output_type": "execute_result"
    },
    {
     "data": {
      "image/png": "[encoded data removed]",
      "text/plain": [
       "<matplotlib.figure.Figure at 0x7f66193d8690>"
      ]
     },
     "metadata": {},
     "output_type": "display_data"
    }
   ],
   "source": [
    "import numpy as np\n",
    "import pandas as pd\n",
    "from scipy import stats, integrate\n",
    "import matplotlib.pyplot as plt\n",
    "import seaborn as sns\n",
    "\n",
    "sns.set_style(\"whitegrid\")\n",
    "sns.barplot(target_day_list, day_access_list)"
   ]
  },
  {
   "cell_type": "code",
   "execution_count": null,
   "metadata": {
    "collapsed": true
   },
   "outputs": [],
   "source": []
  }
 ],
 "metadata": {
  "kernelspec": {
   "display_name": "Python 2",
   "language": "python",
   "name": "python2"
  },
  "language_info": {
   "codemirror_mode": {
    "name": "ipython",
    "version": 2
   },
   "file_extension": ".py",
   "mimetype": "text/x-python",
   "name": "python",
   "nbconvert_exporter": "python",
   "pygments_lexer": "ipython2",
   "version": "2.7.10"
  }
 },
 "nbformat": 4,
 "nbformat_minor": 0
}
